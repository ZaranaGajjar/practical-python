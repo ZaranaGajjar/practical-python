{
 "cells": [
  {
   "cell_type": "code",
   "execution_count": 6,
   "metadata": {},
   "outputs": [
    {
     "name": "stdout",
     "output_type": "stream",
     "text": [
      "Please enter any String : zarana\n",
      "\n",
      "The Original String =  zarana\n",
      "The Reversed String =  anaraz\n"
     ]
    }
   ],
   "source": [
    "str = input('Please enter any String : ')\n",
    "str1 = ''\n",
    "for i in str:\n",
    "    str1 = i + str1\n",
    "    \n",
    "print(\"\\nThe Original String = \", str)\n",
    "print(\"The Reversed String = \", str1)"
   ]
  },
  {
   "cell_type": "code",
   "execution_count": 14,
   "metadata": {},
   "outputs": [
    {
     "name": "stdout",
     "output_type": "stream",
     "text": [
      "Please enter any String : abcd\n",
      "The reversed string is :  dcba\n"
     ]
    }
   ],
   "source": [
    "def reve(x):\n",
    "    return x[::-1]\n",
    "\n",
    "s = input('Please enter any String : ')\n",
    "str = reve(s)\n",
    "\n",
    "print('The reversed string is : ',str)"
   ]
  },
  {
   "cell_type": "code",
   "execution_count": 20,
   "metadata": {},
   "outputs": [
    {
     "name": "stdout",
     "output_type": "stream",
     "text": [
      "Please enter any String : Zarana\n",
      "\n",
      "The original string  is : Zarana\n",
      "The reversed string is : anaraZ\n"
     ]
    }
   ],
   "source": [
    "s = input('Please enter any String : ')\n",
    "def rev(s): \n",
    "    str = ''\n",
    "    for i in s: \n",
    "        str = i + str\n",
    "    return str \n",
    "  \n",
    "print ('\\nThe original string  is :',s) \n",
    "print ('The reversed string is :',rev(s))  #end=''"
   ]
  },
  {
   "cell_type": "code",
   "execution_count": null,
   "metadata": {},
   "outputs": [],
   "source": []
  }
 ],
 "metadata": {
  "kernelspec": {
   "display_name": "Python 3",
   "language": "python",
   "name": "python3"
  },
  "language_info": {
   "codemirror_mode": {
    "name": "ipython",
    "version": 3
   },
   "file_extension": ".py",
   "mimetype": "text/x-python",
   "name": "python",
   "nbconvert_exporter": "python",
   "pygments_lexer": "ipython3",
   "version": "3.7.6"
  }
 },
 "nbformat": 4,
 "nbformat_minor": 4
}
