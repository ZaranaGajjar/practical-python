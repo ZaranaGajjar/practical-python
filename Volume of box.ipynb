{
 "cells": [
  {
   "cell_type": "code",
   "execution_count": 1,
   "metadata": {},
   "outputs": [
    {
     "name": "stdout",
     "output_type": "stream",
     "text": [
      "Please Enter the Length of a Box : 23\n",
      "Please Enter the Width of a Box : 12\n",
      "Please Enter the Height of a Box : 56\n",
      " The Volume of a Box is = 15456.00\n"
     ]
    }
   ],
   "source": [
    "l = float(input('Please Enter the Length of a Box : '))\n",
    "w = float(input('Please Enter the Width of a Box : '))\n",
    "h = float(input('Please Enter the Height of a Box : '))\n",
    "\n",
    "Volume = l * w * h\n",
    "print(\" The Volume of a Box is = %.2f\" %Volume);"
   ]
  },
  {
   "cell_type": "code",
   "execution_count": null,
   "metadata": {},
   "outputs": [],
   "source": []
  }
 ],
 "metadata": {
  "kernelspec": {
   "display_name": "Python 3",
   "language": "python",
   "name": "python3"
  },
  "language_info": {
   "codemirror_mode": {
    "name": "ipython",
    "version": 3
   },
   "file_extension": ".py",
   "mimetype": "text/x-python",
   "name": "python",
   "nbconvert_exporter": "python",
   "pygments_lexer": "ipython3",
   "version": "3.7.6"
  }
 },
 "nbformat": 4,
 "nbformat_minor": 4
}
