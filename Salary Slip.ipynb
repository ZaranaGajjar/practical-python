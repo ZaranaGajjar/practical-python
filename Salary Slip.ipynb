{
 "cells": [
  {
   "cell_type": "code",
   "execution_count": 7,
   "metadata": {},
   "outputs": [
    {
     "name": "stdout",
     "output_type": "stream",
     "text": [
      "Enter Basic pay : 39100\n",
      "31280.0\n",
      "3910.0\n",
      "1955.0\n",
      "Net Salary is : 72335.0\n"
     ]
    }
   ],
   "source": [
    "basic = int(input('Enter Basic pay : '))\n",
    "DA = basic*0.80\n",
    "print(DA)\n",
    "HRA = basic*0.10\n",
    "print(HRA)\n",
    "tax = basic*0.05\n",
    "print(tax)\n",
    "Net_Salary = basic+DA+HRA-tax\n",
    "print('Net Salary is :',Net_Salary)"
   ]
  },
  {
   "cell_type": "code",
   "execution_count": null,
   "metadata": {},
   "outputs": [],
   "source": []
  }
 ],
 "metadata": {
  "kernelspec": {
   "display_name": "Python 3",
   "language": "python",
   "name": "python3"
  },
  "language_info": {
   "codemirror_mode": {
    "name": "ipython",
    "version": 3
   },
   "file_extension": ".py",
   "mimetype": "text/x-python",
   "name": "python",
   "nbconvert_exporter": "python",
   "pygments_lexer": "ipython3",
   "version": "3.7.6"
  }
 },
 "nbformat": 4,
 "nbformat_minor": 4
}
