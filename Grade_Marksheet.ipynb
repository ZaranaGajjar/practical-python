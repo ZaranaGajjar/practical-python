{
 "cells": [
  {
   "cell_type": "code",
   "execution_count": 1,
   "metadata": {},
   "outputs": [
    {
     "name": "stdout",
     "output_type": "stream",
     "text": [
      "Enter marks of the subject 1 : 67\n",
      "Enter marks of the subject 2 : 54\n",
      "Enter marks of the subject 3 : 56\n",
      "Total is 177\n",
      "Percentage is 84.29 %\n",
      "Distinction\n"
     ]
    }
   ],
   "source": [
    "sub1=int(input(\"Enter marks of the subject 1 : \"))\n",
    "sub2=int(input(\"Enter marks of the subject 2 : \"))\n",
    "sub3=int(input(\"Enter marks of the subject 3 : \"))\n",
    "\n",
    "total = sub1+sub2+sub3\n",
    "print('Total is',total)\n",
    "percentage= (total*100)/210\n",
    "print (\"Percentage is\",'%.2f'%percentage,'%') \n",
    "\n",
    "if percentage > 70:\n",
    "    print('Distinction')\n",
    "elif percentage > 60 and percentage <= 70:\n",
    "    print('First Class')\n",
    "elif percentage > 50 and percentage <= 60:\n",
    "    print('Second Class')\n",
    "else:\n",
    "    print('Pass Class')"
   ]
  },
  {
   "cell_type": "code",
   "execution_count": null,
   "metadata": {},
   "outputs": [],
   "source": []
  }
 ],
 "metadata": {
  "kernelspec": {
   "display_name": "Python 3",
   "language": "python",
   "name": "python3"
  },
  "language_info": {
   "codemirror_mode": {
    "name": "ipython",
    "version": 3
   },
   "file_extension": ".py",
   "mimetype": "text/x-python",
   "name": "python",
   "nbconvert_exporter": "python",
   "pygments_lexer": "ipython3",
   "version": "3.7.6"
  }
 },
 "nbformat": 4,
 "nbformat_minor": 4
}
