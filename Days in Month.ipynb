{
 "cells": [
  {
   "cell_type": "code",
   "execution_count": 3,
   "metadata": {},
   "outputs": [
    {
     "name": "stdout",
     "output_type": "stream",
     "text": [
      "Enter Month Number :6\n",
      "This month have 30 days\n"
     ]
    }
   ],
   "source": [
    "month = int(input('Enter Month Number :'))\n",
    "if (month == 1 or month == 3 or month == 5 or month == 7 or month == 8 or month == 10 or month == 12):\n",
    "    print('This month have 31 days')\n",
    "elif month == 2 :\n",
    "    print('This month have 28 days')\n",
    "else :\n",
    "    print('This month have 30 days')"
   ]
  },
  {
   "cell_type": "code",
   "execution_count": 9,
   "metadata": {},
   "outputs": [
    {
     "name": "stdout",
     "output_type": "stream",
     "text": [
      "Enter Month Number :4\n",
      "Number of days is 30\n"
     ]
    }
   ],
   "source": [
    "month = int(input('Enter Month Number :'))\n",
    "if(month == 1 or month == 3 or month == 5 or month == 7 or month == 8 or month == 10 or month == 12):\n",
    "    print(\"Number of days is 31\")\n",
    "elif(month == 2) :\n",
    "    year = int(input('Enter Year :'))\n",
    "    if (year%400==0) or (year%4==0 and year%100!=0) :\n",
    "        print(\"Number of days is 29\")\n",
    "    else :\n",
    "        print(\" of days is 28\")\n",
    "else:\n",
    "    print(\"Number of days is 30\")"
   ]
  },
  {
   "cell_type": "code",
   "execution_count": null,
   "metadata": {},
   "outputs": [],
   "source": []
  }
 ],
 "metadata": {
  "kernelspec": {
   "display_name": "Python 3",
   "language": "python",
   "name": "python3"
  },
  "language_info": {
   "codemirror_mode": {
    "name": "ipython",
    "version": 3
   },
   "file_extension": ".py",
   "mimetype": "text/x-python",
   "name": "python",
   "nbconvert_exporter": "python",
   "pygments_lexer": "ipython3",
   "version": "3.7.6"
  }
 },
 "nbformat": 4,
 "nbformat_minor": 4
}
