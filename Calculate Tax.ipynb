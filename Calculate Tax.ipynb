{
 "cells": [
  {
   "cell_type": "code",
   "execution_count": 1,
   "metadata": {},
   "outputs": [
    {
     "name": "stdout",
     "output_type": "stream",
     "text": [
      "Enter your Salary : 1567300\n",
      "Salary is 1567300\n",
      "Applicable tax on Salary is 517209.0\n"
     ]
    }
   ],
   "source": [
    "salary = int(input('Enter your Salary : '))\n",
    "if salary > 1000000:\n",
    "    tax = salary*0.33\n",
    "    print('Salary is',salary)\n",
    "    print('Applicable tax on Salary is',tax)\n",
    "elif salary >= 500000 and salary <= 1000000:\n",
    "    tax = salary*0.25\n",
    "    print('Salary is',salary)\n",
    "    print('Applicable tax on Salary is',tax)\n",
    "else :\n",
    "    tax = salary*0.10\n",
    "    print('Salary is',salary)\n",
    "    print('Applicable tax on Salary is',tax)"
   ]
  },
  {
   "cell_type": "code",
   "execution_count": null,
   "metadata": {},
   "outputs": [],
   "source": []
  }
 ],
 "metadata": {
  "kernelspec": {
   "display_name": "Python 3",
   "language": "python",
   "name": "python3"
  },
  "language_info": {
   "codemirror_mode": {
    "name": "ipython",
    "version": 3
   },
   "file_extension": ".py",
   "mimetype": "text/x-python",
   "name": "python",
   "nbconvert_exporter": "python",
   "pygments_lexer": "ipython3",
   "version": "3.7.6"
  }
 },
 "nbformat": 4,
 "nbformat_minor": 4
}
