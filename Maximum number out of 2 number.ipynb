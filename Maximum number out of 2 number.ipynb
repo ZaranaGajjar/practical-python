{
 "cells": [
  {
   "cell_type": "code",
   "execution_count": 2,
   "metadata": {},
   "outputs": [
    {
     "name": "stdout",
     "output_type": "stream",
     "text": [
      "Enter Number 1 : 12\n",
      "Enter Number 2 : 34\n",
      "34 is Maximum\n"
     ]
    }
   ],
   "source": [
    "a = int(input('Enter Number 1 : '))\n",
    "b = int(input('Enter Number 2 : '))\n",
    "if a > b:\n",
    "    print(a,'is Maximum')\n",
    "else :\n",
    "    print(b,'is Maximum')"
   ]
  },
  {
   "cell_type": "code",
   "execution_count": null,
   "metadata": {},
   "outputs": [],
   "source": []
  }
 ],
 "metadata": {
  "kernelspec": {
   "display_name": "Python 3",
   "language": "python",
   "name": "python3"
  },
  "language_info": {
   "codemirror_mode": {
    "name": "ipython",
    "version": 3
   },
   "file_extension": ".py",
   "mimetype": "text/x-python",
   "name": "python",
   "nbconvert_exporter": "python",
   "pygments_lexer": "ipython3",
   "version": "3.7.6"
  }
 },
 "nbformat": 4,
 "nbformat_minor": 4
}
