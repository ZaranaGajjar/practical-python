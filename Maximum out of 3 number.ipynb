{
 "cells": [
  {
   "cell_type": "code",
   "execution_count": 1,
   "metadata": {},
   "outputs": [
    {
     "name": "stdout",
     "output_type": "stream",
     "text": [
      "Enter Number 1 : 23\n",
      "Enter Number 2 : 45\n",
      "Enter Number 3 : 12\n",
      "45 is Maximum\n"
     ]
    }
   ],
   "source": [
    "a = int(input('Enter Number 1 : '))\n",
    "b = int(input('Enter Number 2 : '))\n",
    "c = int(input('Enter Number 3 : '))\n",
    "if a > b and a > c:\n",
    "    print(a,'is Maximum')\n",
    "elif b > c :\n",
    "    print(b,'is Maximum')\n",
    "else :\n",
    "    print(c,'is Maximum')"
   ]
  },
  {
   "cell_type": "code",
   "execution_count": null,
   "metadata": {},
   "outputs": [],
   "source": []
  }
 ],
 "metadata": {
  "kernelspec": {
   "display_name": "Python 3",
   "language": "python",
   "name": "python3"
  },
  "language_info": {
   "codemirror_mode": {
    "name": "ipython",
    "version": 3
   },
   "file_extension": ".py",
   "mimetype": "text/x-python",
   "name": "python",
   "nbconvert_exporter": "python",
   "pygments_lexer": "ipython3",
   "version": "3.7.6"
  }
 },
 "nbformat": 4,
 "nbformat_minor": 4
}
