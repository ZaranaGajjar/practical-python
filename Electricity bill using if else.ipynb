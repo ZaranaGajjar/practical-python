{
 "cells": [
  {
   "cell_type": "code",
   "execution_count": 2,
   "metadata": {},
   "outputs": [
    {
     "name": "stdout",
     "output_type": "stream",
     "text": [
      "Enter used electricity units :300\n",
      "Final Electricity bill is : 472.5\n"
     ]
    }
   ],
   "source": [
    "unit = int(input('Enter used electricity units :'))\n",
    "if unit>300:\n",
    "    rate = unit*2.5\n",
    "    GST = rate*0.05\n",
    "    Final_amount = rate+GST\n",
    "    print('Final Electricity bill is :',Final_amount)\n",
    "elif unit>=200 and unit<=300:\n",
    "    rate = unit*1.5\n",
    "    GST = rate*0.05\n",
    "    Final_amount = rate+GST\n",
    "    print('Final Electricity bill is :',Final_amount)\n",
    "else:\n",
    "    rate = unit*1\n",
    "    GST = rate*0.05\n",
    "    Final_amount = rate+GST\n",
    "    print('Final Electricity bill is :',Final_amount)"
   ]
  },
  {
   "cell_type": "code",
   "execution_count": null,
   "metadata": {},
   "outputs": [],
   "source": []
  }
 ],
 "metadata": {
  "kernelspec": {
   "display_name": "Python 3",
   "language": "python",
   "name": "python3"
  },
  "language_info": {
   "codemirror_mode": {
    "name": "ipython",
    "version": 3
   },
   "file_extension": ".py",
   "mimetype": "text/x-python",
   "name": "python",
   "nbconvert_exporter": "python",
   "pygments_lexer": "ipython3",
   "version": "3.7.6"
  }
 },
 "nbformat": 4,
 "nbformat_minor": 4
}
