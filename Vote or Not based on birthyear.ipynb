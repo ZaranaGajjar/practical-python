{
 "cells": [
  {
   "cell_type": "code",
   "execution_count": 6,
   "metadata": {},
   "outputs": [
    {
     "name": "stdout",
     "output_type": "stream",
     "text": [
      "Enter Your Name :Zarana\n",
      "Enter Your birth year :2007\n",
      "sorry Zarana you are a minor\n",
      "You can give vote after 5 year\n"
     ]
    }
   ],
   "source": [
    "from datetime import date\n",
    "current_date = date.today() \n",
    "year = current_date.year\n",
    "#print(\"Current year:\",year)\n",
    "\n",
    "name = input('Enter Your Name :')\n",
    "birthyear = int(input('Enter Your birth year :'))\n",
    "age = year - birthyear\n",
    "if age >= 18:\n",
    "    print('You can give your vote')\n",
    "else:\n",
    "    print('sorry',name,'you are a minor')\n",
    "    count = 18 - age\n",
    "    print('You can give vote after',count,'year')"
   ]
  },
  {
   "cell_type": "code",
   "execution_count": null,
   "metadata": {},
   "outputs": [],
   "source": []
  }
 ],
 "metadata": {
  "kernelspec": {
   "display_name": "Python 3",
   "language": "python",
   "name": "python3"
  },
  "language_info": {
   "codemirror_mode": {
    "name": "ipython",
    "version": 3
   },
   "file_extension": ".py",
   "mimetype": "text/x-python",
   "name": "python",
   "nbconvert_exporter": "python",
   "pygments_lexer": "ipython3",
   "version": "3.7.6"
  }
 },
 "nbformat": 4,
 "nbformat_minor": 4
}
