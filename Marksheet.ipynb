{
 "cells": [
  {
   "cell_type": "code",
   "execution_count": 10,
   "metadata": {},
   "outputs": [
    {
     "name": "stdout",
     "output_type": "stream",
     "text": [
      "Enter marks of the subject 1 : 56\n",
      "Enter marks of the subject 2 : 45\n",
      "Enter marks of the subject 3 : 63\n",
      "Total is 164\n",
      "Percentage is 78.10 %\n"
     ]
    }
   ],
   "source": [
    "sub1=int(input(\"Enter marks of the subject 1 : \"))\n",
    "sub2=int(input(\"Enter marks of the subject 2 : \"))\n",
    "sub3=int(input(\"Enter marks of the subject 3 : \"))\n",
    "\n",
    "total = sub1+sub2+sub3\n",
    "print('Total is',total)\n",
    "percentage= (total*100)/210\n",
    "print (\"Percentage is\",'%.2f'%percentage,'%') "
   ]
  },
  {
   "cell_type": "code",
   "execution_count": null,
   "metadata": {},
   "outputs": [],
   "source": []
  }
 ],
 "metadata": {
  "kernelspec": {
   "display_name": "Python 3",
   "language": "python",
   "name": "python3"
  },
  "language_info": {
   "codemirror_mode": {
    "name": "ipython",
    "version": 3
   },
   "file_extension": ".py",
   "mimetype": "text/x-python",
   "name": "python",
   "nbconvert_exporter": "python",
   "pygments_lexer": "ipython3",
   "version": "3.7.6"
  }
 },
 "nbformat": 4,
 "nbformat_minor": 4
}
